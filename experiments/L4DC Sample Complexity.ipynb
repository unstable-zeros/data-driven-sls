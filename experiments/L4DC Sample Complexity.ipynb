{
 "cells": [
  {
   "cell_type": "code",
   "execution_count": 69,
   "metadata": {},
   "outputs": [],
   "source": [
    "using LinearAlgebra\n",
    "using Plots\n",
    "using Statistics"
   ]
  },
  {
   "cell_type": "code",
   "execution_count": 70,
   "metadata": {},
   "outputs": [],
   "source": [
    "# Generate the Hankel, assuming z is a stacked vector with block dimension d\n",
    "function Hankel(z::Array{Float64}, d::Int64, L::Int64)\n",
    "    N = Int64(round(length(z) / d))\n",
    "    @assert length(z) == N * d\n",
    "    z = reshape(z, (d, N))\n",
    "    H = Matrix{Float64}(zeros(d * L, N - L + 1))\n",
    "    for i = 1:(N - L + 1); H[:, i] = (z[:, i:(i + L - 1)])[:] end\n",
    "    return H\n",
    "end\n",
    ";"
   ]
  },
  {
   "cell_type": "code",
   "execution_count": 71,
   "metadata": {},
   "outputs": [],
   "source": [
    "# For a particular value of N, calculate the statistics of averaging N different Hw's\n",
    "# Generate M (=1000) different norm(Hw) to get the mean, delta, and (1-delta) quantiles\n",
    "function sampleTrueN(n::Int64, sigma::Float64, T::Int64, L::Int64, N::Int64, delta::Float64; M=1000)\n",
    "    norms = zeros(M)\n",
    "    for m = 1:M\n",
    "        w = (sigma / sqrt(N)) * randn(n * T)\n",
    "        Hw = Hankel(w, n, L)\n",
    "        norms[m] = opnorm(Hw)\n",
    "    end\n",
    "    # Mean\n",
    "    mu = mean(norms)\n",
    "    \n",
    "    # delta quantile\n",
    "    qlonorm = quantile(norms, delta)\n",
    "    \n",
    "    # (1-delta) quantile\n",
    "    qhinorm = quantile(norms, 1 - delta)\n",
    "    \n",
    "    return (mu, qlonorm, qhinorm)\n",
    "end\n",
    "\n",
    "\n",
    "# For a particular N, calculate the statistics of \n",
    "# Run a bootstrap experiment:\n",
    "# Over M (=1) iterations, get call sampleTrueN to figure out the bootstrap epsilon\n",
    "# The bootstrap epsilon is the (1-delta) quantile of the empirical true H_L (w)\n",
    "function sampleBootN(n::Int64, sigma::Float64, T::Int64, L::Int64, N::Int64, delta::Float64; M=1)\n",
    "    Bs = zeros(M)\n",
    "    for m = 1:M\n",
    "        W = sigma * randn((n * T), N)\n",
    "        (mu, qlo, qhi) = sampleTrueN(n, sigma, T, L, N, delta)\n",
    "        Bs[m] = qhi\n",
    "    end\n",
    "    \n",
    "    # Mean of boot eps\n",
    "    muB = mean(Bs)\n",
    "    \n",
    "    # delta quantile of boot eps\n",
    "    qloB = quantile(Bs, delta)\n",
    "    \n",
    "    # (1-delta) quantile of boot eps\n",
    "    qhiB = quantile(Bs, 1 - delta)\n",
    "    \n",
    "    return (muB, qloB, qhiB)\n",
    "end\n",
    "\n",
    ";"
   ]
  },
  {
   "cell_type": "code",
   "execution_count": 18,
   "metadata": {},
   "outputs": [
    {
     "name": "stdout",
     "output_type": "stream",
     "text": [
      "Generating trues\n",
      " 54.547918 seconds (51.65 M allocations: 40.982 GiB, 3.10% gc time)\n",
      "Generating boots\n",
      " 54.874407 seconds (51.65 M allocations: 44.610 GiB, 3.50% gc time)\n"
     ]
    },
    {
     "data": {
      "text/plain": [
       "600-element Array{Tuple{Float64,Float64,Float64},1}:\n",
       " (1.2451208309269783, 1.2451208309269783, 1.2451208309269783)      \n",
       " (0.8800208738612182, 0.8800208738612182, 0.8800208738612182)      \n",
       " (0.7200425738094807, 0.7200425738094807, 0.7200425738094807)      \n",
       " (0.6221722052666475, 0.6221722052666475, 0.6221722052666475)      \n",
       " (0.5588345628901507, 0.5588345628901507, 0.5588345628901507)      \n",
       " (0.5134833357379155, 0.5134833357379155, 0.5134833357379155)      \n",
       " (0.4725056678627814, 0.4725056678627814, 0.4725056678627814)      \n",
       " (0.4391189684675182, 0.4391189684675182, 0.4391189684675182)      \n",
       " (0.4172465501444145, 0.4172465501444145, 0.4172465501444145)      \n",
       " (0.3974732989345227, 0.3974732989345227, 0.3974732989345227)      \n",
       " (0.37960548382009573, 0.37960548382009573, 0.37960548382009573)   \n",
       " (0.35767257836314964, 0.35767257836314964, 0.35767257836314964)   \n",
       " (0.3472707612336057, 0.3472707612336057, 0.3472707612336057)      \n",
       " ⋮                                                                 \n",
       " (0.05166739173477917, 0.05166739173477917, 0.05166739173477917)   \n",
       " (0.05142377355839355, 0.05142377355839355, 0.05142377355839355)   \n",
       " (0.050915938078643884, 0.050915938078643884, 0.050915938078643884)\n",
       " (0.05132939454415831, 0.05132939454415831, 0.05132939454415831)   \n",
       " (0.05172337254288426, 0.05172337254288426, 0.05172337254288426)   \n",
       " (0.051128054641093, 0.051128054641093, 0.051128054641093)         \n",
       " (0.05176597317087291, 0.05176597317087291, 0.05176597317087291)   \n",
       " (0.051294767548148074, 0.051294767548148074, 0.051294767548148074)\n",
       " (0.05078508671673806, 0.05078508671673806, 0.05078508671673806)   \n",
       " (0.05112087744733075, 0.05112087744733075, 0.05112087744733075)   \n",
       " (0.05099311692664881, 0.05099311692664881, 0.05099311692664881)   \n",
       " (0.051251009643149964, 0.051251009643149964, 0.051251009643149964)"
      ]
     },
     "execution_count": 18,
     "metadata": {},
     "output_type": "execute_result"
    }
   ],
   "source": [
    "# Slightly unstable graph Laplacian is dim n = 3\n",
    "n = 3\n",
    "sigma = sqrt(0.1)\n",
    "\n",
    "# Hankel matrix dimensions\n",
    "T = 45\n",
    "L = 10\n",
    "\n",
    "# Uncertainty parameter delta\n",
    "delta = 0.05\n",
    "\n",
    "# 10, 20, 30, 40, ..., 6000\n",
    "Ns = 10:10:6000\n",
    "\n",
    "println(\"Generating trues\")\n",
    "# About 60 secs\n",
    "@time trues = [sampleTrueN(n, sigma, T, L, k, delta) for k in Ns]\n",
    "\n",
    "println(\"Generating boots\")\n",
    "# About 60 secs\n",
    "@time boots = [sampleBootN(n, sigma, T, L, k, delta) for k in Ns]\n",
    ";"
   ]
  },
  {
   "cell_type": "code",
   "execution_count": 50,
   "metadata": {},
   "outputs": [],
   "source": [
    "NN = length(Ns)\n",
    "# Mean of true ||Hw||\n",
    "muTs = [trues[i][1] for i = 1:NN]\n",
    "\n",
    "# delta quantile of true ||Hw||\n",
    "qloTs = [trues[i][2] for i = 1:NN]\n",
    "\n",
    "# (1-delta) quantile of true ||Hw||\n",
    "qhiTs = [trues[i][3] for i = 1:NN]\n",
    "\n",
    "# Mean of boot eps\n",
    "muBs = [boots[i][1] for i = 1:NN]\n",
    "\n",
    "# We don't actually plot these two\n",
    "qloBs = [boots[i][2] for i = 1:NN]\n",
    "qhiBs = [boots[i][3] for i = 1:NN]\n",
    ";"
   ]
  },
  {
   "cell_type": "code",
   "execution_count": 74,
   "metadata": {},
   "outputs": [],
   "source": [
    "# Plot the true ||Hw|| data, along with ribbons\n",
    "plot(Ns, muTs,\n",
    "    ribbon=(muTs - qloTs, qhiTs - muTs),\n",
    "    fillalpha=0.1,\n",
    "    label=\"true ||H_L (w)||\",\n",
    "    xlabel=\"Number of Samples (N)\",\n",
    "    ylabel=\"Operator Norm\",\n",
    "    yscale=:log10,\n",
    "    xtickfontsize=18,\n",
    "    ytickfontsize=18,\n",
    "    legendfontsize=18,\n",
    "    xguidefontsize=18,\n",
    "    yguidefontsize=18\n",
    ")\n",
    "\n",
    "\n",
    "# Plot the solid eps-B line\n",
    "plot!(Ns, muBs,\n",
    "    label=\"ε Boot\"\n",
    ")\n",
    "\n",
    "# Check which directory you booted jupyter notebook from\n",
    "savefig(\"Hwnorms.png\")\n"
   ]
  },
  {
   "cell_type": "code",
   "execution_count": null,
   "metadata": {},
   "outputs": [],
   "source": []
  },
  {
   "cell_type": "code",
   "execution_count": 76,
   "metadata": {},
   "outputs": [
    {
     "data": {
      "text/plain": [
       "10-element Array{Float64,1}:\n",
       " 1.2451208309269783  \n",
       " 0.8800208738612182  \n",
       " 0.6221722052666475  \n",
       " 0.4391189684675182  \n",
       " 0.3126961297989887  \n",
       " 0.2238407593985623  \n",
       " 0.15557654473097288 \n",
       " 0.110852519282565   \n",
       " 0.07787090540704344 \n",
       " 0.055482199975597016"
      ]
     },
     "execution_count": 76,
     "metadata": {},
     "output_type": "execute_result"
    }
   ],
   "source": [
    "[\n",
    "    muBs[1];\n",
    "    muBs[2];\n",
    "    muBs[4];\n",
    "    muBs[8];\n",
    "    muBs[16];\n",
    "    muBs[32];\n",
    "    muBs[64];\n",
    "    muBs[128];\n",
    "    muBs[256];\n",
    "    muBs[512];\n",
    "]"
   ]
  },
  {
   "cell_type": "code",
   "execution_count": null,
   "metadata": {},
   "outputs": [],
   "source": []
  }
 ],
 "metadata": {
  "kernelspec": {
   "display_name": "Julia 1.3.1",
   "language": "julia",
   "name": "julia-1.3"
  },
  "language_info": {
   "file_extension": ".jl",
   "mimetype": "application/julia",
   "name": "julia",
   "version": "1.3.1"
  }
 },
 "nbformat": 4,
 "nbformat_minor": 2
}
