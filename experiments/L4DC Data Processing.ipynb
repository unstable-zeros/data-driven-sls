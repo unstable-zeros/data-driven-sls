{
 "cells": [
  {
   "cell_type": "code",
   "execution_count": 30,
   "metadata": {},
   "outputs": [],
   "source": [
    "using LinearAlgebra\n",
    "using Statistics\n",
    "using DelimitedFiles\n",
    "using Plots"
   ]
  },
  {
   "cell_type": "code",
   "execution_count": 120,
   "metadata": {},
   "outputs": [],
   "source": [
    "Jstars = readdlm(\"Jstars.txt\", '\\t', Float64)\n",
    "replace!(Jstars, 0=>Inf)\n",
    "\n",
    "Jnoms = readdlm(\"Jnoms.txt\", '\\t', Float64)\n",
    "replace!(Jnoms, 0=>Inf)\n",
    "\n",
    "JrobBs = readdlm(\"JrobBs.txt\", '\\t', Float64)\n",
    "replace!(JrobBs, 0=>Inf)\n",
    "\n",
    "JrobTs = readdlm(\"JrobTs.txt\", '\\t', Float64)\n",
    "replace!(JrobTs, 0=>Inf)\n",
    "\n",
    "gammaBs = readdlm(\"gammaBs.txt\", '\\t', Float64)\n",
    "replace!(gammaBs, 0=>Inf)\n",
    "\n",
    "gammaTs = readdlm(\"gammaTs.txt\", '\\t', Float64)\n",
    "replace!(gammaTs, 0=>Inf)\n",
    ";"
   ]
  },
  {
   "cell_type": "code",
   "execution_count": 121,
   "metadata": {},
   "outputs": [],
   "source": [
    "Ns = [10; 20; 40; 80; 160; 320; 640; 1280; 2560; 5120]\n",
    "Bmax = length(Ns)\n",
    "\n",
    "Jstarsmed = [median(Jstars[b,:]) for b = 1:Bmax]\n",
    "JstarsQ1 = [quantile(Jstars[b,:], 0.25) for b = 1:Bmax]\n",
    "JstarsQ3 = [quantile(Jstars[b,:], 0.7) for b = 1:Bmax]\n",
    "\n",
    "Jnomsmed = [median(Jnoms[b,:]) for b = 1:Bmax]\n",
    "JnomsQ1 = [quantile(Jnoms[b,:], 0.25) for b = 1:Bmax]\n",
    "JnomsQ3 = [quantile(Jnoms[b,:], 0.7) for b = 1:Bmax]\n",
    "\n",
    "JrobBsmed = [median(JrobBs[b,:]) for b = 1:Bmax]\n",
    "JrobBsQ1 = [quantile(JrobBs[b,:], 0.25) for b = 1:Bmax]\n",
    "JrobBsQ3 = [quantile(JrobBs[b,:], 0.7) for b = 1:Bmax]\n",
    "\n",
    "JrobTsmed = [median(JrobTs[b,:]) for b = 1:Bmax]\n",
    "JrobTsQ1 = [quantile(JrobTs[b,:], 0.25) for b = 1:Bmax]\n",
    "JrobTsQ3 = [quantile(JrobTs[b,:], 0.7) for b = 1:Bmax]\n",
    ";"
   ]
  },
  {
   "cell_type": "code",
   "execution_count": 118,
   "metadata": {},
   "outputs": [],
   "source": [
    "plot(1:Bmax, Jstarsmed, ribbons=(Jstarsmed - JstarsQ1, JstarsQ3 - Jstarsmed), fillalpha=0.1,\n",
    "        xticks=(1:10, [\"10\"; \"20\"; \"40\"; \"80\"; \"160\"; \"...\"; \"640\"; \"...\"; \"2560\"; \"...\"]),\n",
    "        ylims=(0.5, 5),\n",
    "#         title=\"LQR Cost Suboptimality (All)\",\n",
    "        xlabel=\"Number of Samples (N)\",\n",
    "        ylabel=\"LQR Cost\",\n",
    "        label=\"Optimal\",\n",
    "        xtickfontsize=18,\n",
    "        ytickfontsize=18,\n",
    "        legendfontsize=18,\n",
    "        xguidefontsize=18,\n",
    "        yguidefontsize=18,\n",
    "        )\n",
    "plot!(1:Bmax, JrobBsmed, ribbons=(JrobBsmed - JrobBsQ1, JrobBsQ3 - JrobBsmed), fillalpha=0.1, label=\"Boot ε\")\n",
    "plot!(1:Bmax, JrobTsmed, ribbons=(JrobTsmed - JrobTsQ1, JrobTsQ3 - JrobTsmed), fillalpha=0.1, label=\"True ε\")\n",
    "plot!(1:Bmax, Jnomsmed, ribbons=(Jnomsmed - JnomsQ1, JnomsQ3 - Jnomsmed), fillalpha=0.1, label=\"Naive\")\n",
    "savefig(\"lqr-cost-all.png\")\n"
   ]
  },
  {
   "cell_type": "code",
   "execution_count": null,
   "metadata": {},
   "outputs": [],
   "source": []
  },
  {
   "cell_type": "code",
   "execution_count": 122,
   "metadata": {},
   "outputs": [],
   "source": [
    "plot(1:Bmax, Jstarsmed, ribbons=(Jstarsmed - JstarsQ1, JstarsQ3 - Jstarsmed), fillalpha=0.1,\n",
    "        xticks=(1:10, [\"10\"; \"20\"; \"40\"; \"80\"; \"160\"; \"...\"; \"640\"; \"...\"; \"2560\"; \"...\"]),\n",
    "        ylims=(0.95,1.15),\n",
    "#         title=\"LQR Cost Suboptimality (No Naive)\",\n",
    "        xlabel=\"Number of Samples (N)\",\n",
    "        ylabel=\"LQR Cost\",\n",
    "        label=\"Optimal\",\n",
    "        xtickfontsize=18,\n",
    "        ytickfontsize=18,\n",
    "        legendfontsize=18,\n",
    "        xguidefontsize=18,\n",
    "        yguidefontsize=18,\n",
    "        )\n",
    "# plot!(1:Bmax, Jnomsmed, ribbons=(Jnomsmed - JnomsQ1, JnomsQ3 - Jnomsmed), fillalpha=0.1)\n",
    "plot!(1:Bmax, JrobBsmed, ribbons=(JrobBsmed - JrobBsQ1, JrobBsQ3 - JrobBsmed), fillalpha=0.1, label=\"Boot ε\")\n",
    "plot!(1:Bmax, JrobTsmed, ribbons=(JrobTsmed - JrobTsQ1, JrobTsQ3 - JrobTsmed), fillalpha=0.1, label=\"True ε\")\n",
    "savefig(\"lqr-cost-some.png\")\n"
   ]
  },
  {
   "cell_type": "code",
   "execution_count": null,
   "metadata": {},
   "outputs": [],
   "source": []
  }
 ],
 "metadata": {
  "kernelspec": {
   "display_name": "Julia 1.3.1",
   "language": "julia",
   "name": "julia-1.3"
  },
  "language_info": {
   "file_extension": ".jl",
   "mimetype": "application/julia",
   "name": "julia",
   "version": "1.3.1"
  }
 },
 "nbformat": 4,
 "nbformat_minor": 2
}
