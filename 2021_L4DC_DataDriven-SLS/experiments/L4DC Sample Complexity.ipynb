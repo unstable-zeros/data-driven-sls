{
 "cells": [
  {
   "cell_type": "code",
   "execution_count": 19,
   "metadata": {},
   "outputs": [],
   "source": [
    "using LinearAlgebra\n",
    "using Plots\n",
    "using Statistics"
   ]
  },
  {
   "cell_type": "code",
   "execution_count": 20,
   "metadata": {},
   "outputs": [],
   "source": [
    "# Generate the Hankel, assuming z is a stacked vector with block dimension d\n",
    "function Hankel(z::Array{Float64}, d::Int64, L::Int64)\n",
    "    N = Int64(round(length(z) / d))\n",
    "    @assert length(z) == N * d\n",
    "    z = reshape(z, (d, N))\n",
    "    H = Matrix{Float64}(zeros(d * L, N - L + 1))\n",
    "    for i = 1:(N - L + 1); H[:, i] = (z[:, i:(i + L - 1)])[:] end\n",
    "    return H\n",
    "end\n",
    ";"
   ]
  },
  {
   "cell_type": "code",
   "execution_count": 21,
   "metadata": {},
   "outputs": [],
   "source": [
    "# For a particular value of N, calculate the statistics of averaging N different Hw's\n",
    "# Generate M (=1000) different norm(Hw) to get the mean, delta, and (1-delta) quantiles\n",
    "function sampleTrueN(n::Int64, sigma::Float64, T::Int64, L::Int64, N::Int64, delta::Float64; M=1000)\n",
    "    norms = zeros(M)\n",
    "    for m = 1:M\n",
    "        w = (sigma / sqrt(N)) * randn(n * T)\n",
    "        Hw = Hankel(w, n, L)\n",
    "        norms[m] = opnorm(Hw)\n",
    "    end\n",
    "    # Mean\n",
    "    mu = mean(norms)\n",
    "    \n",
    "    # delta quantile\n",
    "    qlonorm = quantile(norms, delta)\n",
    "    \n",
    "    # (1-delta) quantile\n",
    "    qhinorm = quantile(norms, 1 - delta)\n",
    "    \n",
    "    return (mu, qlonorm, qhinorm)\n",
    "end\n",
    "\n",
    "\n",
    "# For a particular N, calculate the statistics of \n",
    "# Run a bootstrap experiment:\n",
    "# Over M (=1) iterations, get call sampleTrueN to figure out the bootstrap epsilon\n",
    "# The bootstrap epsilon is the (1-delta) quantile of the empirical true H_L (w)\n",
    "function sampleBootN(n::Int64, sigma::Float64, T::Int64, L::Int64, N::Int64, delta::Float64; M=1)\n",
    "    Bs = zeros(M)\n",
    "    for m = 1:M\n",
    "        W = sigma * randn((n * T), N)\n",
    "        (mu, qlo, qhi) = sampleTrueN(n, sigma, T, L, N, delta)\n",
    "        Bs[m] = qhi\n",
    "    end\n",
    "    \n",
    "    # Mean of boot eps\n",
    "    muB = mean(Bs)\n",
    "    \n",
    "    # delta quantile of boot eps\n",
    "    qloB = quantile(Bs, delta)\n",
    "    \n",
    "    # (1-delta) quantile of boot eps\n",
    "    qhiB = quantile(Bs, 1 - delta)\n",
    "    \n",
    "    return (muB, qloB, qhiB)\n",
    "end\n",
    "\n",
    ";"
   ]
  },
  {
   "cell_type": "code",
   "execution_count": 22,
   "metadata": {},
   "outputs": [
    {
     "name": "stdout",
     "output_type": "stream",
     "text": [
      "Generating trues\n",
      "145.344276 seconds (86.10 M allocations: 68.304 GiB, 3.59% gc time)\n",
      "Generating boots\n",
      "140.486977 seconds (86.09 M allocations: 78.372 GiB, 4.47% gc time)\n"
     ]
    }
   ],
   "source": [
    "# Slightly unstable graph Laplacian is dim n = 3\n",
    "n = 3\n",
    "sigma = sqrt(0.1)\n",
    "\n",
    "# Hankel matrix dimensions\n",
    "T = 45\n",
    "L = 10\n",
    "\n",
    "# Uncertainty parameter delta\n",
    "delta = 0.05\n",
    "\n",
    "# 10, 20, 30, 40, ..., 10000\n",
    "Ns = 10:10:10000\n",
    "\n",
    "println(\"Generating trues\")\n",
    "# About 150 secs\n",
    "@time trues = [sampleTrueN(n, sigma, T, L, k, delta) for k in Ns]\n",
    "\n",
    "println(\"Generating boots\")\n",
    "# About 150 secs\n",
    "@time boots = [sampleBootN(n, sigma, T, L, k, delta) for k in Ns]\n",
    ";"
   ]
  },
  {
   "cell_type": "code",
   "execution_count": 23,
   "metadata": {},
   "outputs": [],
   "source": [
    "NN = length(Ns)\n",
    "# Mean of true ||Hw||\n",
    "muTs = [trues[i][1] for i = 1:NN]\n",
    "\n",
    "# delta quantile of true ||Hw||\n",
    "qloTs = [trues[i][2] for i = 1:NN]\n",
    "\n",
    "# (1-delta) quantile of true ||Hw||\n",
    "qhiTs = [trues[i][3] for i = 1:NN]\n",
    "\n",
    "# Mean of boot eps\n",
    "muBs = [boots[i][1] for i = 1:NN]\n",
    "\n",
    "# We don't actually plot these two\n",
    "qloBs = [boots[i][2] for i = 1:NN]\n",
    "qhiBs = [boots[i][3] for i = 1:NN]\n",
    ";"
   ]
  },
  {
   "cell_type": "code",
   "execution_count": 31,
   "metadata": {},
   "outputs": [],
   "source": [
    "# Plot the true ||Hw|| data, along with ribbons\n",
    "plot(Ns, muTs,\n",
    "    ribbon=(muTs - qloTs, qhiTs - muTs),\n",
    "    fillalpha=0.1,\n",
    "    xticks=([10; 31; 100; 316; 1000; 3162; 10000] , [\"1.0\"; \"1.5\"; \"2.0\"; \"2.5\"; \"3.0\"; \"3.5\"; \"4.0\";]),\n",
    "#     xticks=([2000; 6000; 10000]),\n",
    "    label=\"true ||H_L (w)||\",\n",
    "    xlabel=\"Number of Samples (log10 N)\",\n",
    "    ylabel=\"Operator Norm\",\n",
    "    xscale=:log10,\n",
    "    yscale=:log10,\n",
    "    xtickfontsize=18,\n",
    "    ytickfontsize=18,\n",
    "    legendfontsize=18,\n",
    "    xguidefontsize=18,\n",
    "    yguidefontsize=18\n",
    ")\n",
    "\n",
    "\n",
    "# Plot the solid eps-B line\n",
    "plot!(Ns, muBs,\n",
    "    label=\"ε Boot\"\n",
    ")\n",
    "\n",
    "# Check which directory you booted jupyter notebook from\n",
    "savefig(\"Hwnorms.png\")\n"
   ]
  },
  {
   "cell_type": "code",
   "execution_count": null,
   "metadata": {},
   "outputs": [],
   "source": []
  },
  {
   "cell_type": "code",
   "execution_count": 32,
   "metadata": {},
   "outputs": [
    {
     "data": {
      "text/plain": [
       "9-element Array{Float64,1}:\n",
       " 3.9082042192458024 \n",
       " 2.299229011763075  \n",
       " 1.2477926488188928 \n",
       " 0.7080045365205088 \n",
       " 0.40338514816909393\n",
       " 0.22333114401705384\n",
       " 0.12494235476552938\n",
       " 0.07121620824611384\n",
       " 0.03917996646748791"
      ]
     },
     "execution_count": 32,
     "metadata": {},
     "output_type": "execute_result"
    }
   ],
   "source": [
    "# The particular values we will use in the controller synthesis\n",
    "[\n",
    "    sampleBootN(n, sigma, T, L, 1, delta)[1];\n",
    "    sampleBootN(n, sigma, T, L, 3, delta)[1];\n",
    "    sampleBootN(n, sigma, T, L, 10, delta)[1];\n",
    "    sampleBootN(n, sigma, T, L, 31, delta)[1];\n",
    "    sampleBootN(n, sigma, T, L, 100, delta)[1];\n",
    "    sampleBootN(n, sigma, T, L, 316, delta)[1];\n",
    "    sampleBootN(n, sigma, T, L, 1000, delta)[1];\n",
    "    sampleBootN(n, sigma, T, L, 3162, delta)[1];\n",
    "    sampleBootN(n, sigma, T, L, 10000, delta)[1];\n",
    "]"
   ]
  },
  {
   "cell_type": "code",
   "execution_count": null,
   "metadata": {},
   "outputs": [],
   "source": []
  }
 ],
 "metadata": {
  "kernelspec": {
   "display_name": "Julia 1.3.1",
   "language": "julia",
   "name": "julia-1.3"
  },
  "language_info": {
   "file_extension": ".jl",
   "mimetype": "application/julia",
   "name": "julia",
   "version": "1.3.1"
  }
 },
 "nbformat": 4,
 "nbformat_minor": 2
}
